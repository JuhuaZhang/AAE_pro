{
 "cells": [
  {
   "cell_type": "markdown",
   "metadata": {},
   "source": [
    "# Compute mAP & rotation error"
   ]
  },
  {
   "attachments": {},
   "cell_type": "markdown",
   "metadata": {},
   "source": [
    "This notebook is used for evlauting model performance by comparing model prediction results and the ground truth using mAP and mAR metrics."
   ]
  },
  {
   "cell_type": "code",
   "execution_count": 26,
   "metadata": {},
   "outputs": [],
   "source": [
    "import os\n",
    "import json\n",
    "import numpy as np\n",
    "import cv2\n",
    "from scipy.spatial.transform import Rotation\n",
    "\n",
    "def convert_rgb_to_binary(img):\n",
    "    gray = cv2.cvtColor(img, cv2.COLOR_BGR2GRAY)\n",
    "    ret, binary = cv2.threshold(gray, 127, 255, cv2.THRESH_BINARY)\n",
    "    return binary\n",
    "\n",
    "def intersection_over_union(img1, img2):\n",
    "    intersection = np.logical_and(img1, img2)\n",
    "    union = np.logical_or(img1, img2)\n",
    "    iou = np.sum(intersection) / np.sum(union)\n",
    "    return iou\n",
    "\n",
    "def pixel_wise_metrics(img1, img2):\n",
    "    tp = np.sum(np.logical_and(img1, img2))\n",
    "    fp = np.sum(np.logical_and(np.logical_not(img1), img2))\n",
    "    fn = np.sum(np.logical_and(img1, np.logical_not(img2)))\n",
    "\n",
    "    precision = tp / (tp + fp)\n",
    "    recall = tp / (tp + fn)\n",
    "    f1_score = 2 * (precision * recall) / (precision + recall)\n",
    "\n",
    "    return precision, recall, f1_score\n",
    "\n",
    "def process_images(folder_path1, folder_path2):\n",
    "    img_list1 = os.listdir(folder_path1)\n",
    "    img_list2 = os.listdir(folder_path2)\n",
    "\n",
    "    binary_images1 = [convert_rgb_to_binary(cv2.imread(os.path.join(folder_path1, img))) for img in img_list1]\n",
    "    binary_images2 = [convert_rgb_to_binary(cv2.imread(os.path.join(folder_path2, img))) for img in img_list2]\n",
    "\n",
    "    precision_values, recall_values, f1_score_values = [], [], []\n",
    "\n",
    "    for img1, img2 in zip(binary_images1, binary_images2):\n",
    "        precision, recall, f1_score = pixel_wise_metrics(img1, img2)\n",
    "        precision_values.append(precision)\n",
    "        recall_values.append(recall)\n",
    "        f1_score_values.append(f1_score)\n",
    "\n",
    "    average_precision = np.mean(precision_values)\n",
    "    average_recall = np.mean(recall_values)\n",
    "    average_f1_score = np.mean(f1_score_values)\n",
    "\n",
    "    print(\"Average precision:\", average_precision)\n",
    "    print(\"Average recall:\", average_recall)\n",
    "    print(\"Average F1 score:\", average_f1_score)\n",
    "\n",
    "\n",
    "def compute_angle_error(gt_euler, pred_euler):\n",
    "    error = np.abs(gt_euler - pred_euler)\n",
    "    return error\n",
    "\n"
   ]
  },
  {
   "attachments": {},
   "cell_type": "markdown",
   "metadata": {},
   "source": [
    "Change the `folder` and `obj_id` to evaluate different objects in different scenes."
   ]
  },
  {
   "cell_type": "code",
   "execution_count": 27,
   "metadata": {},
   "outputs": [
    {
     "name": "stdout",
     "output_type": "stream",
     "text": [
      "Average precision: 0.8167858033316696\n",
      "Average recall: 0.8333744197475025\n",
      "Average F1 score: 0.8129369521179538\n",
      "Average angle errors for each axis [roll, pitch, yaw]: [105.12268902  24.29510613  82.66137083]\n"
     ]
    }
   ],
   "source": [
    "folder = '000015'\n",
    "obj_id = '29'\n",
    "folder_path1 = f\"/home/zjh/Desktop/AAE_pro/data/t_less/t-less_v2/test_primesense/{folder}/{obj_id}_gt\"\n",
    "folder_path2 = f\"/home/zjh/Desktop/AAE_pro/data/t_less/t-less_v2/test_primesense/{folder}/{obj_id}_pred\"\n",
    "process_images(folder_path1, folder_path2)\n",
    "\n",
    "with open(f\"/home/zjh/Desktop/AAE_pro/data/t_less/t-less_v2/test_primesense/{folder}/{obj_id}_gt.json\", 'r') as f:\n",
    "    gt_matrices = json.load(f)\n",
    "\n",
    "with open(f\"/home/zjh/Desktop/AAE_pro/data/t_less/t-less_v2/test_primesense/{folder}/{obj_id}_pred.json\", 'r') as f:\n",
    "    pred_matrices = json.load(f)\n",
    "\n",
    "angle_errors = []\n",
    "\n",
    "for key in gt_matrices:\n",
    "    gt_rot = Rotation.from_matrix(np.array(gt_matrices[key]).reshape(3, 3))\n",
    "    gt_euler = gt_rot.as_euler('xyz', degrees=True)\n",
    "\n",
    "    pred_rot = Rotation.from_matrix(np.array(pred_matrices[key]).reshape(3, 3))\n",
    "    pred_euler = pred_rot.as_euler('xyz', degrees=True)\n",
    "\n",
    "    angle_error = compute_angle_error(gt_euler, pred_euler)\n",
    "    angle_errors.append(angle_error)\n",
    "\n",
    "angle_errors = np.array(angle_errors)\n",
    "average_errors = np.mean(angle_errors, axis=0)\n",
    "\n",
    "print(\"Average angle errors for each axis [roll, pitch, yaw]:\", average_errors)"
   ]
  }
 ],
 "metadata": {
  "kernelspec": {
   "display_name": "Python 3",
   "language": "python",
   "name": "python3"
  },
  "language_info": {
   "codemirror_mode": {
    "name": "ipython",
    "version": 3
   },
   "file_extension": ".py",
   "mimetype": "text/x-python",
   "name": "python",
   "nbconvert_exporter": "python",
   "pygments_lexer": "ipython3",
   "version": "3.7.12"
  }
 },
 "nbformat": 4,
 "nbformat_minor": 2
}
